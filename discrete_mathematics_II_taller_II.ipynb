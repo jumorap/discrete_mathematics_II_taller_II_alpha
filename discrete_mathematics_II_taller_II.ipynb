{
  "nbformat": 4,
  "nbformat_minor": 0,
  "metadata": {
    "colab": {
      "name": "discrete_mathematics_II_taller_II.ipynb",
      "provenance": [],
      "collapsed_sections": [],
      "include_colab_link": true
    },
    "kernelspec": {
      "name": "python3",
      "display_name": "Python 3"
    }
  },
  "cells": [
    {
      "cell_type": "markdown",
      "metadata": {
        "id": "view-in-github",
        "colab_type": "text"
      },
      "source": [
        "<a href=\"https://colab.research.google.com/github/jumorap/discrete_mathematics_II_taller_II_alpha/blob/main/discrete_mathematics_II_taller_II.ipynb\" target=\"_parent\"><img src=\"https://colab.research.google.com/assets/colab-badge.svg\" alt=\"Open In Colab\"/></a>"
      ]
    },
    {
      "cell_type": "markdown",
      "metadata": {
        "id": "pykasmoPB3j9"
      },
      "source": [
        "*Presented by: Juan C. Mora P. (jumorap@unal.edu.co)* \\\\\n",
        "*Undergraduate in Computer Science (Systems Engineer)* \\\\\n",
        "\n",
        "*Discrete Mathematics II UNAL* \\\\\n",
        "*Francisco A. Gómez J.* \\\\\n",
        "\n",
        "---"
      ]
    },
    {
      "cell_type": "markdown",
      "metadata": {
        "id": "ZR_Os10H9e0k"
      },
      "source": [
        "# Taller 2\n",
        "\n",
        "1. (20 Puntos) De las [notas de clase](https://drive.google.com/file/d/1EQ0FxsZNcBO0651ULj9qAWPX41DuXnFt/view?usp=sharing) realice las siguientes actividades: 1 (pagina 10),  2 (pagina 14), y 5 (pagina 20), 7 (pagina 23), 17 (pagina 31), 19 (pagina 32), 23 (pagina 37), 24 (pagina 37), 28 y 29 (pagina 46), 31 (pagina 54), 34 (pagina 57), 37 (pagina 63), 38 (pagina 66).\n",
        "\n",
        "2. (15 Puntos) Del [libro](https://drive.google.com/file/d/1vZugWaH5IjT_NVLB97oii9aVFbvtWSet/view?usp=sharing) realice los siguientes problemas: 1, 2, 3 (pagina 7).\n",
        "\n",
        "3. (20 Puntos) Del [libro](https://drive.google.com/file/d/1vZugWaH5IjT_NVLB97oii9aVFbvtWSet/view?usp=sharing) realice los siguientes problemas: 4 (pagina 7) y 9 (pagina 8).\n",
        "\n",
        "4. (15 Puntos) Del [libro](https://drive.google.com/file/d/1vZugWaH5IjT_NVLB97oii9aVFbvtWSet/view?usp=sharing) realice los siguientes problemas: 2 y 3 (pagina 79), 22 (pagina 80).\n",
        "\n",
        "5. (10 Puntos) Del [libro](https://drive.google.com/file/d/1vZugWaH5IjT_NVLB97oii9aVFbvtWSet/view?usp=sharing) realice los siguientes problemas: 1 y 2 (pagina 104).\n",
        "\n",
        "6. (10 Puntos) Del [libro](https://drive.google.com/file/d/1vZugWaH5IjT_NVLB97oii9aVFbvtWSet/view?usp=sharing) realice los siguientes problemas: 18 (pagina 105).\n",
        "\n",
        "6. (10 Puntos) Del [libro](https://drive.google.com/file/d/1vZugWaH5IjT_NVLB97oii9aVFbvtWSet/view?usp=sharing) realice los siguientes problemas: 19 y 20 (pagina 105)."
      ]
    },
    {
      "cell_type": "markdown",
      "metadata": {
        "id": "vQqY7icekoWQ"
      },
      "source": [
        "**1. (20 Puntos) De las notas de clase realice las siguientes actividades: 1 (pagina 10), 2 (pagina 14), y 5 (pagina 20), 7 (pagina 23), 17 (pagina 31), 19 (pagina 32), 23 (pagina 37), 24 (pagina 37), 28 y 29 (pagina 46), 31 (pagina 54), 34 (pagina 57), 37 (pagina 63), 38 (pagina 66).**\n",
        "\n",
        "*1.1 - pg.10)* For each of the following numbers $a$ and $n$, find the quotient and remainder when you divide $a$ by $n$, and write down the equation $a = qn + r$.<p>\n",
        "$(a) a = 59, n = 7 \\qquad (b) a = 84, n = 12$ <br>\n",
        "$(c) a = 100, n = 9 \\qquad (d) a = 9, n = 100$ <br>\n",
        "$(e) a = 0, n = 11 \\qquad (f) a = −58, n = 5$<br>\n",
        "$(g) a = −100, n = 9 \\qquad (h) a = −96, n = 12$ <br>\n",
        "$(i) a = −4, n = 5$<br>"
      ]
    },
    {
      "cell_type": "code",
      "metadata": {
        "colab": {
          "base_uri": "https://localhost:8080/"
        },
        "id": "De7wH-Rg1Gbx",
        "outputId": "3f57cbf6-94aa-4260-d638-84a778ec1df2"
      },
      "source": [
        "def to_equation(a,n):\n",
        "    var_r = int(a % n)\n",
        "    var_q = a // n\n",
        "    res = f\"a = {a},  \\t n = {n}, \\t r = {var_r}, \\t q = {var_q}, \\t {a} = {var_q} * {n} + {var_r}\"\n",
        "\n",
        "    return res\n",
        "\n",
        "print(\"With the equation a = q*n + r, we have:\\n\")\n",
        "print(to_equation(59, 7))\n",
        "print(to_equation(84, 12))\n",
        "print(to_equation(100, 9))\n",
        "print(to_equation(9, 10))\n",
        "print(to_equation(0, 11))\n",
        "print(to_equation(-58, 5))\n",
        "print(to_equation(-100, 9))\n",
        "print(to_equation(-96, 12))\n",
        "print(to_equation(-4, 5))"
      ],
      "execution_count": null,
      "outputs": [
        {
          "output_type": "stream",
          "text": [
            "With the equation a = q*n + r, we have:\n",
            "\n",
            "a = 59,  \t n = 7, \t r = 3, \t q = 8, \t 59 = 8 * 7 + 3\n",
            "a = 84,  \t n = 12, \t r = 0, \t q = 7, \t 84 = 7 * 12 + 0\n",
            "a = 100,  \t n = 9, \t r = 1, \t q = 11, \t 100 = 11 * 9 + 1\n",
            "a = 9,  \t n = 10, \t r = 9, \t q = 0, \t 9 = 0 * 10 + 9\n",
            "a = 0,  \t n = 11, \t r = 0, \t q = 0, \t 0 = 0 * 11 + 0\n",
            "a = -58,  \t n = 5, \t r = 2, \t q = -12, \t -58 = -12 * 5 + 2\n",
            "a = -100,  \t n = 9, \t r = 8, \t q = -12, \t -100 = -12 * 9 + 8\n",
            "a = -96,  \t n = 12, \t r = 0, \t q = -8, \t -96 = -8 * 12 + 0\n",
            "a = -4,  \t n = 5, \t r = 1, \t q = -1, \t -4 = -1 * 5 + 1\n"
          ],
          "name": "stdout"
        }
      ]
    },
    {
      "cell_type": "markdown",
      "metadata": {
        "id": "_IeCoqYY6Hyj"
      },
      "source": [
        "*1.2 - pg.14)* Using Euclid’s algorithm, find the highest common factor of each of the following pairs of integers.<br>\n",
        "(a) 93 and 21 $\\qquad$ (b) 138 and 61 $\\qquad$ (c) 231 and 49$"
      ]
    },
    {
      "cell_type": "code",
      "metadata": {
        "colab": {
          "base_uri": "https://localhost:8080/"
        },
        "id": "iRKNQN1V6nu_",
        "outputId": "81696c2b-2aa5-40d9-c489-1468c4f3a3c9"
      },
      "source": [
        "def gcd(a, b):\n",
        "    if b == 0:\n",
        "        return a\n",
        "    \n",
        "    return gcd(b, a % b)\n",
        "print(\"The g.c.d using Euclid’s algorithm is:\\n\")\n",
        "print(f\"a = {93}, \\t b = {21} \\t g.c.d = \", gcd(93, 21))\n",
        "print(f\"a = {138}, \\t b = {61} \\t g.c.d = \", gcd(138, 61))\n",
        "print(f\"a = {231}, \\t b = {49} \\t g.c.d = \", gcd(231, 49))"
      ],
      "execution_count": null,
      "outputs": [
        {
          "output_type": "stream",
          "text": [
            "The g.c.d using Euclid’s algorithm is:\n",
            "\n",
            "a = 93, \t b = 21 \t g.c.d =  3\n",
            "a = 138, \t b = 61 \t g.c.d =  1\n",
            "a = 231, \t b = 49 \t g.c.d =  7\n"
          ],
          "name": "stdout"
        }
      ]
    },
    {
      "cell_type": "markdown",
      "metadata": {
        "id": "zinP3NEpAgWa"
      },
      "source": [
        "*1.5 - pg.20)* Suppose you have two buckets of capacities 23 litres and 16 litres, and a cauldron, which has capacity over 200 litres. You are able to fill the buckets with water from a tap. By using these buckets, you can obtain certain quantities of water in the cauldron. For example, you could obtain 7 litres of water in the cauldron by filling the 23-litre bucket from the tap and pouring it into the cauldron, and then filling the 16-litre bucket from the cauldron and emptying it out.\n",
        "\n",
        "Is it possible to use a similar method to obtain exactly 1 litre of water in the cauldron? If so, describe how you would do this.<br>&nbsp;<br>\n",
        "Following step by step the process, is possible obtain 1 litre of wotah within next ecuation:  $23x + 16y = 1$. Was think to use Euclid's algorithm.\n",
        "\n",
        "Applying the equation $a = qn + r$, where $a = 23$ and $n = 16$, we determinate $q$ and $r$ as:\n",
        "<center>\n",
        "    $23 = 1 * 16 + 7$<br>\n",
        "    $16 = 2 * 7 + 2$ <br>\n",
        "    $7 = 3 * 2 + 1$<br>\n",
        "    $3 = 3 * 3 + 0$\n",
        "</center>\n",
        "Now, using these results, is possible reorder the equations given, as:\n",
        "<center>\n",
        "    $7 = 23 − 1 × 16$<br>\n",
        "    $2 = 16 − 2 × 7$<br>\n",
        "    $1 = 7 − 3 × 2$<br>\n",
        "    $1 = 7 − 3 × (16 - 2 * 7)$<br>\n",
        "    $1 = 7 × 7 − 3 × 16$<br>\n",
        "    $1 = 7 × (23 − 1 × 16) − 3 × 16$<br>\n",
        "    $ 1 = 7 × 23 − 10 × 16$\n",
        "</center><p>\n",
        "By the way, is possible define<br> $x = 7$ &nbsp; &nbsp; and &nbsp; &nbsp; $y = -10$ &nbsp; &nbsp; in<br>\n",
        "$23x + 16y = 1$ &nbsp; &nbsp; as:<br>\n",
        "$23*7 + 16*(-10) = 1$\n",
        "\n",
        "So, when we add 23 litre and pour it 7 times, until fill 16 litre and empty it out\n",
        "10 times, we'll have 1 litre of wotah.\n"
      ]
    },
    {
      "cell_type": "markdown",
      "metadata": {
        "id": "aO_f4ouXiRN6"
      },
      "source": [
        "*1.7 - pg.23)* Which of the following congruences are true?<p>\n",
        "(a) $11 ≡ 26 (mod 5)$ $\\qquad$ (b) $9 ≡ −9 (mod 5)$<br>\n",
        "(c) $28 ≡ 0 (mod 7)$ $\\qquad$ (d) $−4 ≡ −18 (mod 7)$<br>\n",
        "(e) $−8 ≡ 5 (mod 13)$ $\\qquad$ (f) $38 ≡ 0 (mod 13)$\n",
        "\n",
        "\n",
        "\n",
        "\n",
        "\n",
        "\n"
      ]
    },
    {
      "cell_type": "code",
      "metadata": {
        "colab": {
          "base_uri": "https://localhost:8080/"
        },
        "id": "g89pAG393K8b",
        "outputId": "b6e04cdf-2fd5-43c5-cde1-38ecf55d4f06"
      },
      "source": [
        "def mod_congruence(a, b, c):\n",
        "    text = f\"{a} ≡ {b} (mod {c})\"\n",
        "    if a % c == b % c:\n",
        "        return text, True\n",
        "    \n",
        "    return text, False\n",
        "\n",
        "print(\"a)\", mod_congruence(11, 26, 5))\n",
        "print(\"b)\", mod_congruence(9, -9, 5))\n",
        "print(\"c)\", mod_congruence(28, 0, 7))\n",
        "print(\"d)\", mod_congruence(-4, -18, 7))\n",
        "print(\"e)\", mod_congruence(-8, 5, 13))\n",
        "print(\"f)\", mod_congruence(38, 0, 13))"
      ],
      "execution_count": null,
      "outputs": [
        {
          "output_type": "stream",
          "text": [
            "a) ('11 ≡ 26 (mod 5)', True)\n",
            "b) ('9 ≡ -9 (mod 5)', False)\n",
            "c) ('28 ≡ 0 (mod 7)', True)\n",
            "d) ('-4 ≡ -18 (mod 7)', True)\n",
            "e) ('-8 ≡ 5 (mod 13)', True)\n",
            "f) ('38 ≡ 0 (mod 13)', False)\n"
          ],
          "name": "stdout"
        }
      ]
    },
    {
      "cell_type": "markdown",
      "metadata": {
        "id": "1Indlynb4g3k"
      },
      "source": [
        "*1.17 - pg.31)* Find the least residues of the following integers modulo 10.<p>\n",
        "(a) $6 + 4$ $\\qquad$ (b) $14 − 7$ $\\qquad$ (c) $13 − 15$<br>\n",
        "(d) $−21 − 17$ $\\qquad$ (e) $101 + 11 + 1$ $\\qquad$ (f) $101 − 11 − 1$<br>&nbsp;<br>\n",
        "(a) $6 + 4 ≡ 10 ≡ 0 (mod 10)$<br>\n",
        "(b) $14 − 7 ≡ 7 (mod 10)$<br>\n",
        "(c) $13 − 15 ≡ −2 ≡ 8 (mod 10)$<br>\n",
        "(d) $−21 − 17 ≡ −1 − 7 ≡ −8 ≡ 2 (mod 10)$<br>\n",
        "(e) $101 + 11 + 1 ≡ 1 + 1 + 1 ≡ 3 (mod 10)$<br>\n",
        "(f) $101 − 11 − 1 ≡ 1 − 1 − 1 ≡ −1 ≡ 9 (mod 10)$"
      ]
    },
    {
      "cell_type": "markdown",
      "metadata": {
        "id": "GcGeyp425_EK"
      },
      "source": [
        "*1.19 - pg.32)* Find the least residues of the following integers modulo 8.<br>\n",
        "(a) $4 × 4$ $\\qquad$ (b) $17 × 26$ $\\qquad$ (c) $(−6) × 34$<br>\n",
        "(d) $16 × 457$ $\\qquad$ (e) $47 × (−25)$ $\\qquad$ (f) $(−61) × (−46)$\n",
        "<br>&nbsp;<br>\n",
        "(a) $4 * 4 ≡ 16 ≡ 0 (mod 8)$<br>\n",
        "(b) $17 * 26 ≡ 1 * 2 ≡ 2 (mod 8)$<br>\n",
        "(c) $(−6) * 34 ≡ 2 * 2 ≡ 4 (mod 8)$<br>\n",
        "(d) $16 * 457 ≡ 0 * 457 ≡ 0 (mod 8)$<br>\n",
        "(e) $47 * (−25) ≡ (−1) * (−1) ≡ 1 (mod 8)$<br>\n",
        "(f) $(−61) * (−46) ≡ 61 * 46 ≡ (−3) * (−2) ≡ 6 (mod 8)$\n"
      ]
    },
    {
      "cell_type": "markdown",
      "metadata": {
        "id": "FZCKxbxw7mr-"
      },
      "source": [
        "*1.23 - pg.37)* Find the least residues of the following integers modulo 7.<br>\n",
        "(a) $5^{6}$ $\\qquad$ (b) $18^{18}$ $\\qquad$ (c) $(−11)^{33}$<br>&nbsp;<br>\n",
        "\n",
        "**(a)** Using Fermat’s little theorem $a^{p - 1} ≡ 1 (mod(p))$:\n",
        "<center>\n",
        "    $5^{6} ≡ 1 (mod 7)$<p>\n",
        "</center>\n",
        "<hr width=\"40%\">\n",
        "\n",
        "**(b)** Following congruence methods, we point out bellow:\n",
        "<center>\n",
        "    $18 ≡ 4 (mod 7)$<br>\n",
        "    $18^{x} ≡ 4^{x} (mod 7)$<br>\n",
        "    $18^{18} ≡ 4^{18} (mod 7$<p>\n",
        "</center>\n",
        "$\\quad$ And now, using Fermat’s little theorem $a^{p - 1} ≡ 1 (mod(p))$:\n",
        "<center>\n",
        "    $4^{7 - 1} ≡ 1 (mod 7)$<br>\n",
        "    $4^{6} ≡ 1 (mod 7)$<p>\n",
        "</center>\n",
        "$\\quad$ With this in mind, we can use the properties of modular arithmetic, as:\n",
        "<center>\n",
        "    $4^{18} ≡ 4^{6*3} (mod 7)$<br>\n",
        "    $4^{18} ≡ (4^{6})^{3} (mod 7)$<br>\n",
        "    $4^{18} ≡ 1^{3} (mod 7)$<br>\n",
        "    $4^{18} ≡ 1 (mod 7)$<br>\n",
        "    $18^{18} ≡ 4^{18} ≡ 1 (mod 7)$<p>\n",
        "</center>\n",
        "<hr width=\"40%\">\n",
        "\n",
        "**(c)** Following congruence methods, we point out bellow:\n",
        "<center>\n",
        "    $-11 ≡ 3 (mod 7)$<br>\n",
        "    $-11^{x} ≡ 3^{x} (mod 7)$<br>\n",
        "    $-11^{33} ≡ 3^{33} (mod 7$<p>\n",
        "</center>\n",
        "$\\quad$ And now, using Fermat’s little theorem $a^{p - 1} ≡ 1 (mod(p))$:\n",
        "<center>\n",
        "    $3^{7 - 1} ≡ 1 (mod 7)$<br>\n",
        "    $3^{6} ≡ 1 (mod 7)$<p>\n",
        "</center>\n",
        "$\\quad$ With this in mind, we can use the properties of modular arithmetic, as:\n",
        "<center>\n",
        "    $3^{33} ≡ 3^{6*5} * 3^{3} (mod 7)$<br>\n",
        "    $3^{33} ≡ (3^{6})^{5} *3^{3} (mod 7)$<br>\n",
        "    $3^{33} ≡ 1^{5} * 3^{3} (mod 7)$<br>\n",
        "    $3^{33} ≡ 1 * 3^{3}(mod 7)$<br>\n",
        "    $3^{33} ≡ 27 (mod 7)$<br>\n",
        "    $3^{33} ≡ 6 (mod 7)$<br>\n",
        "    $-11^{33} ≡ 3^{33} ≡ 6 (mod 7)$<p>\n",
        "</center>\n",
        "<hr width=\"40%\">"
      ]
    },
    {
      "cell_type": "markdown",
      "metadata": {
        "id": "HwCMZhTEhjEj"
      },
      "source": [
        "*1.24 - 37)* Find the least residues of the following integers modulo 11.<br>\n",
        "(a) $7^{10}$ $\\qquad$ (b) $(−5)^{31}$ $\\qquad$ (c) $13^{85}$<br>&nbsp;<br>\n",
        "\n",
        "**(a)**  Using Fermat’s little theorem $a^{p - 1} ≡ 1 (mod(p))$:\n",
        "<center>\n",
        "    $7^{10} ≡ 1 (mod 11)$\n",
        "</center>\n",
        "<hr width=\"40%\">\n",
        "\n",
        "**(b)** Following congruence methods, we point out bellow:\n",
        "<center>\n",
        "    $-5 ≡ 6 (mod 11)$<br>\n",
        "    $-5^{x} ≡ 6^{x} (mod 11)$<br>\n",
        "    $-5^{31} ≡ 6^{31} (mod 11)$<p>\n",
        "</center>\n",
        "$\\quad$ And now, using Fermat’s little theorem $a^{p - 1} ≡ 1 (mod(p))$:\n",
        "<center>\n",
        "    $6^{11 - 1} ≡ 1 (mod 11)$<br>\n",
        "    $6^{10} ≡ 1 (mod 11)$<p>\n",
        "</center>\n",
        "$\\quad$ With this in mind, we can use the properties of modular arithmetic, as:\n",
        "<center>\n",
        "    $6^{31} ≡ 6^{10*3} * 6^{1} (mod 11)$<br>\n",
        "    $6^{31} ≡ (6^{10})^{3} *6 (mod 11)$<br>\n",
        "    $6^{31} ≡ 1^{3} * 6 (mod 11)$<br>\n",
        "    $6^{31} ≡ 1 * 6 (mod 11)$<br>\n",
        "    $6^{31} ≡ 6 (mod 11)$<br>\n",
        "    $-5^{31} ≡ 6^{31} ≡ 6 (mod 11)$<p>\n",
        "</center>\n",
        "<hr width=\"40%\">\n",
        "\n",
        "**(c)** Following congruence methods, we point out bellow:\n",
        "<center>\n",
        "    $13 ≡ 2 (mod 11)$<br>\n",
        "    $13^{x} ≡ 2^{x} (mod 11)$<br>\n",
        "    $13^{85} ≡ 2^{85} (mod 11)$<p>\n",
        "</center>\n",
        "$\\quad$ And now, using Fermat’s little theorem $a^{p - 1} ≡ 1 (mod(p))$:\n",
        "<center>\n",
        "    $2^{11 - 1} ≡ 1 (mod 11)$<br>\n",
        "    $2^{10} ≡ 1 (mod 11)$<p>\n",
        "</center>\n",
        "$\\quad$ With this in mind, we can use the properties of modular arithmetic, as:\n",
        "<center>\n",
        "    $2^{85} ≡ 2^{10*8} * 2^{5} (mod 11)$<br>\n",
        "    $2^{85} ≡ (2^{10})^{8} *2^{5} (mod 11)$<br>\n",
        "    $2^{85} ≡ 1^{8} * 2^{5} (mod 11)$<br>\n",
        "    $2^{85} ≡ 1 * 2^{5} (mod 11)$<br>\n",
        "    $2^{85} ≡ 32 (mod 11)$<br>\n",
        "    $2^{85} ≡ 10 (mod 11)$<br>\n",
        "    $13^{85} ≡ 2^{85} ≡ 10 (mod 11)$<p>\n",
        "</center>\n",
        "<hr width=\"40%\">"
      ]
    },
    {
      "cell_type": "markdown",
      "metadata": {
        "id": "KASsl5xyud2w"
      },
      "source": [
        "*1.28 - pg.46)* Find a multiplicative inverse modulo $9$ of each of the following integers.<br>\n",
        "(a) $1$ $\\qquad$ (b) $5$ $\\qquad$ (c) $7$ $\\qquad$ (d) $16$\n",
        "<center>\n",
        "    <b>TO SOLVE IT, WAS BUILT NEXT PYTHON PROGRAM</b>\n",
        "</center>\n",
        "\n",
        "*1.29 - pg.46)* Show that each of the following integers doesn’t have a multiplicative inverse modulo $9$.<br>\n",
        "(a) $0$ $\\qquad$ (b) $6$ $\\qquad$ (d) $18$\n",
        "<center>\n",
        "    <b>TO SOLVE IT, WAS BUILT NEXT PYTHON PROGRAM</b>\n",
        "</center>"
      ]
    },
    {
      "cell_type": "code",
      "metadata": {
        "colab": {
          "base_uri": "https://localhost:8080/"
        },
        "id": "98tIJXzSBi2h",
        "outputId": "65b6c908-f03d-46ff-ac4f-9bd11ea14fbb"
      },
      "source": [
        "# P 28 & 29 PG.29\n",
        "\n",
        "def egcd(a, b):\n",
        "    if a == 0:\n",
        "        return (b, 0, 1)\n",
        "    else:\n",
        "        g, y, x = egcd(b % a, a)\n",
        "        return (g, x - (b // a) * y, y)\n",
        "\n",
        "def modinv(a, p):\n",
        "    g, x, y = egcd(a, p)\n",
        "    if g != 1:\n",
        "        return (f\"Doesn’t have a multiplicative inverse modulo {9}\")\n",
        "    else:\n",
        "        return x % p\n",
        "\n",
        "def caller(number):\n",
        "    text = f\"Multiplicative inverse modulo {modulo} of {number} is:   \" + str(modinv(number, modulo))\n",
        "    return text\n",
        "\n",
        "modulo = 9\n",
        "\n",
        "print(\"1.28 - pg.46) Find a multiplicative inverse modulo 9 of each of the following integers\")\n",
        "print(caller(1))\n",
        "print(caller(5))\n",
        "print(caller(7))\n",
        "print(caller(16))\n",
        "print()\n",
        "\n",
        "print(\"1.29 - pg.46) Show that each of the following integers doesn’t have a multiplicative inverse modulo 9\")\n",
        "print(modinv(0, modulo))\n",
        "print(modinv(6, modulo))\n",
        "print(modinv(18, modulo))"
      ],
      "execution_count": null,
      "outputs": [
        {
          "output_type": "stream",
          "text": [
            "1.28 - pg.46) Find a multiplicative inverse modulo 9 of each of the following integers\n",
            "Multiplicative inverse modulo 9 of 1 is:   1\n",
            "Multiplicative inverse modulo 9 of 5 is:   2\n",
            "Multiplicative inverse modulo 9 of 7 is:   4\n",
            "Multiplicative inverse modulo 9 of 16 is:   4\n",
            "\n",
            "1.29 - pg.46) Show that each of the following integers doesn’t have a multiplicative inverse modulo 9\n",
            "Doesn’t have a multiplicative inverse modulo 9\n",
            "Doesn’t have a multiplicative inverse modulo 9\n",
            "Doesn’t have a multiplicative inverse modulo 9\n"
          ],
          "name": "stdout"
        }
      ]
    },
    {
      "cell_type": "markdown",
      "metadata": {
        "id": "qZ_Jhm3UEhr5"
      },
      "source": [
        "*1.31 - pg.54)* Solve the following linear congruences.<br>\n",
        "(a) $2x ≡ 5 (mod 7)$<br>\n",
        "(b) $7x ≡ 8 (mod 10)$<br>\n",
        "(c) $15x ≡ −13 (mod 11)$\n",
        "\n",
        "\n",
        "\n",
        "\n"
      ]
    },
    {
      "cell_type": "code",
      "metadata": {
        "colab": {
          "base_uri": "https://localhost:8080/"
        },
        "id": "meoo-u6yeNGR",
        "outputId": "b585cce6-cc4b-4f7c-c625-c4e98198a18d"
      },
      "source": [
        "def linear_congruences(a, b, c):\n",
        "    rest = b - c\n",
        "    while rest % a != 0:\n",
        "        rest += c\n",
        "    \n",
        "    return rest // a\n",
        "\n",
        "print(\"a) In 2x ≡ 5(mod 7) \\t \\t x =\", linear_congruences(2, 5, 7))\n",
        "print(\"b) In 7x ≡ 8(mod 10) \\t \\t x =\", linear_congruences(7, 8, 10))\n",
        "print(\"c) In 15x ≡ -13(mod 11) \\t x =\", linear_congruences(15, -13, 11))"
      ],
      "execution_count": null,
      "outputs": [
        {
          "output_type": "stream",
          "text": [
            "a) In 2x ≡ 5(mod 7) \t \t x = -1\n",
            "b) In 7x ≡ 8(mod 10) \t \t x = 4\n",
            "c) In 15x ≡ -13(mod 11) \t x = 5\n"
          ],
          "name": "stdout"
        }
      ]
    },
    {
      "cell_type": "markdown",
      "metadata": {
        "id": "05HfbNMhhNtA"
      },
      "source": [
        "*1.34 - pg.57)* Show that the following linear congruences have no solutions.<br>\n",
        "(a) $4x ≡ 5 (mod 10)$ $\\qquad$ (b) $−12x ≡ 8 (mod 42)$<br>\n",
        "(c) $48x ≡ 70 (mod 111)$<br>&nbsp;\n",
        "\n",
        "**(a)** The highest common factor of $4$ and $10$ is $2$. And $5$ isn't divisible by $2$, so, the linear congruence hasn't solutions.\n",
        "\n",
        "**(b)** The highest common factor of $-12$ and $42$ is $6$. And $8$ isn't divisible by $6$, so, the linear congruence hasn't solutions.\n",
        "\n",
        "**(c)** The highest common factor of $48$ and $111$ is $3$. And $70$ isn't divisible by $3$, so, the linear congruence hasn't solutions."
      ]
    },
    {
      "cell_type": "markdown",
      "metadata": {
        "id": "0CpQh_pkl5dQ"
      },
      "source": [
        "![imagen_2020-11-22_195345.png](data:image/png;base64,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)"
      ]
    },
    {
      "cell_type": "markdown",
      "metadata": {
        "id": "b-SiQuGMkrm-"
      },
      "source": [
        "*1.37 - pg.63)* Using Table 1 and the affine cipher\n",
        "$E(x) ≡ 3x + 14 (mod 26)$, encipher the message BROUHAHA.\n",
        "<p>\n",
        "Using the Table 1, we can translate the message as: $1, 17, 14, 20, 7, 0, 7, 0$. So, we can encipher the message:<br>\n",
        "    $E(1) ≡ 3 × 1 + 14 ≡ 17 (mod 26)$<br>\n",
        "    $E(17) ≡ 3 × 17 + 14 ≡ 65 ≡ 13 (mod 26)$<br>\n",
        "    $E(14) ≡ 3 × 14 + 14 ≡ 56 ≡ 4 (mod 26)$<br>\n",
        "    $E(20) ≡ 3 × 20 + 14 ≡ 74 ≡ 22 (mod 26)$<br>\n",
        "    $E(7) ≡ 3 × 7 + 14 ≡ 35 ≡ 9 (mod 26)$<br>\n",
        "    $E(0) ≡ 3 × 0 + 14 ≡ 14 (mod 26)$<p>\n",
        "Therefore, enciphered message is: $17, 13, 4, 22, 9, 14, 9, 14$"
      ]
    },
    {
      "cell_type": "markdown",
      "metadata": {
        "id": "67DWxuNPoPyO"
      },
      "source": [
        "*1.38 -pg.66)* Suppose you receive the following two messages that have been enciphered using the specified affine cipher E. What do the messages say?<br>\n",
        "(a) $14, 10, 6, 22, 22$, using $E(x) ≡ 5x + 10 (mod 26)$<br>\n",
        "(b) $22, 8, 11, 22, 9$, using $E(x) ≡ −9x + 6 (mod 26)$<br>&nbsp;\n",
        "\n",
        "**(a)** A rule D for deciphering the message is given by $D(y) ≡ v(y − 10) (mod 26)$, where $v$ is a multiplicative inverse of 5 modulo 26. So, $D(y) ≡ -5(y − 10) (mod 26)$. With this in mind, we can deciphering the message as:\n",
        "\n",
        "$D(14) ≡ −5(14 − 10) ≡ −20 ≡ 6 (mod 26)$<br>\n",
        "$D(10) ≡ −5(10 − 10) ≡ 0 (mod 26)$<br>\n",
        "$D(6) ≡ −5(6 − 10) ≡ 20 (mod 26)$<br>\n",
        "$D(22) ≡ −5(22 − 10) ≡ −60 ≡ 18 (mod 26)$\n",
        "\n",
        "The deciphered message would be: $6, 0, 20, 18, 18$, and using the Table 1, we can translate the message like: GAUSS.<br>&nbsp;\n",
        "\n",
        "\n",
        "**(b)** A rule D for deciphering the message is given by $D(y) ≡ v(y − 6) (mod 26)$, where $v$ is a multiplicative inverse of -9 modulo 26. So, $D(y) ≡ -3(y − 5) (mod 26)$. With this in mind, we can deciphering the message as:\n",
        "\n",
        "$D(22) ≡ −3(22 − 6) ≡ −48 ≡ 4 (mod 26)$<br>\n",
        "$D(8) ≡ −3(8 − 6) ≡ −6 ≡ 20 (mod 26)$<br>\n",
        "$D(11) ≡ −3(11 − 6) ≡ −15 ≡ 11 (mod 26)$<br>\n",
        "$D(9) ≡ −3(9 − 6) ≡ −9 ≡ 17 (mod 26)$\n",
        "\n",
        "The deciphered message would be: $4, 20, 11, 4, 17$, and using the Table 1, we can translate the message like: EULER"
      ]
    },
    {
      "cell_type": "markdown",
      "metadata": {
        "id": "G7JIM4KFAcVn"
      },
      "source": [
        "<hr>"
      ]
    },
    {
      "cell_type": "code",
      "metadata": {
        "id": "6Y06FvgwjigH",
        "colab": {
          "base_uri": "https://localhost:8080/"
        },
        "outputId": "7d2bf6df-a0a0-4206-ff93-ded11ad40842"
      },
      "source": [
        "# 2. (15 Puntos) Del libro realice los siguientes problemas: 1, 2, 3 (pagina 7).\n",
        "\n",
        "\"\"\"1 - Write a program to find the nth triangular number, tn, using formula \n",
        "(1.1). Then write a program using (1.2). Compare the two procedures for very \n",
        "large values of n. A program for the first part of this is included at the end \n",
        "of the chapter.\"\"\"\n",
        "\n",
        "# formula 1.1\n",
        "def triangular_numb_one(n): \n",
        "    adder = 0\n",
        "    for x in range(n + 1):\n",
        "        adder += x\n",
        "\n",
        "    return adder\n",
        "\n",
        "# formula 1.2\n",
        "def triangular_numb_two(n):\n",
        "    \n",
        "    return (n * (n + 1)) // 2\n",
        "\n",
        "\n",
        "n = int(input(\"2.1) Ingress a n number to find tn number \"))\n",
        "\n",
        "print(\"With complex O(n): The nth triangular number, tn is\", triangular_numb_one(n))\n",
        "print(\"With complex O(1): The nth triangular number, tn is\", triangular_numb_two(n))\n",
        "\n",
        "\n",
        "\n",
        "print(\"\\n=============================================\\n\")\n",
        "\n",
        "\"\"\"2 - Write a program to find out whether a given number is a square.\"\"\"\n",
        "\n",
        "def is_square(n):\n",
        "    if (int(n ** 0.5 + 0.5) ** 2 == n):\n",
        "        return True\n",
        "    \n",
        "    return False\n",
        "\n",
        "n = int(input(\"2.2) Ingress a n number to calculate if is a square \"))\n",
        "\n",
        "print(n, \"is a square\") if is_square(n) else print(n, \"isn't a square\")\n",
        "\n",
        "\n",
        "\n",
        "print(\"\\n=============================================\\n\")\n",
        "\n",
        "\"\"\"3 - Find, using a partial fraction decomposition, the sum of the\n",
        "reciprocals of the first n triangular numbers, that is, find\n",
        "1/1 + 1/3 + 1/6 + 1/10 + ... + 1/tn. Then write a program to do this.\"\"\"\n",
        "\n",
        "def sum_reciprocals(n):\n",
        "    result = 0\n",
        "    adder = 0\n",
        "    for x in range(1, n + 1):\n",
        "        adder += x\n",
        "        result += (1/adder)\n",
        "\n",
        "    return result\n",
        "\n",
        "n = int(input(\"2.3) Ingress a n number to calculate all the reciprocals number and sum until tn \"))\n",
        "\n",
        "print(\"The sum of the reciprocals of the first n triangular numbers is:\", sum_reciprocals(500))\n"
      ],
      "execution_count": null,
      "outputs": [
        {
          "output_type": "stream",
          "text": [
            "2.1) Ingress a n number to find tn number 505050\n",
            "With complex O(n): The nth triangular number, tn is 127538003775\n",
            "With complex O(1): The nth triangular number, tn is 127538003775\n",
            "\n",
            "=============================================\n",
            "\n",
            "2.2) Ingress a n number to calculate if is a square 1024144\n",
            "1024144 is a square\n",
            "\n",
            "=============================================\n",
            "\n",
            "2.3) Ingress a n number to calculate all the reciprocals number and sum until tn 505457\n",
            "The sum of the reciprocals of the first n triangular numbers is: 1.996007984031936\n"
          ],
          "name": "stdout"
        }
      ]
    },
    {
      "cell_type": "markdown",
      "metadata": {
        "id": "9zK0HEBGkcTT"
      },
      "source": [
        "---\n",
        "\n",
        "**3. (20 Puntos) Del libro realice los siguientes problemas: 4 (pagina 7) y 9 (pagina 8).**\n",
        "\n",
        "*3.4) The ancient Egyptians expressed every proper fraction except as the\n",
        "sum of fractions with 1s in the numerator. Thus, 2/3 is equivalent to \n",
        "$\\frac{1}{3} + \\frac{1}{4} + \\frac{1}{12}$ and $\\frac{7}{8}$ is equivalent to as $\\frac{1}{2} + \\frac{1}{4} + \\frac{1}{8}$*\n",
        "\n",
        "**a)** Verify the identity $\\frac{1}{n} = \\frac{1}{n + 1} + \\frac{1} {n (n + 1)}$\n",
        "<p>\n",
        "Applying fraction reduction methods we can reduce the expression as:\n",
        "<center>\n",
        "    $\\frac{1}{n} = \\frac{1}{n + 1} + \\frac{1} {n (n + 1)} = ...$<p>\n",
        "    $... = \\frac{n}{n(n + 1)} + \\frac{1} {n (n + 1)} = ...$<p>\n",
        "    $... = \\frac{n + 1}{n(n+1)} = \\frac{1}{n}$\n",
        "</center>\n",
        "\n",
        "\n",
        "**b)** Using the strategy of starting off by writing a fraction $\\frac{a}{b}$ as the sum of $\\frac{1}{b} + \\frac{1}{b} +$ ($a$ times) and using the identity verified in part a repeatedly until all fractions are distinct, write a program to express every fraction as the sum of fractions with distinct denominators and numerators equal to $1$:\n"
      ]
    },
    {
      "cell_type": "code",
      "metadata": {
        "colab": {
          "base_uri": "https://localhost:8080/"
        },
        "id": "618Lv61jZry3",
        "outputId": "75485b39-087b-40e7-ae4d-98b94a778089"
      },
      "source": [
        "# Using Greedy algorithm:\n",
        "\n",
        "import math\n",
        "\n",
        "def fract_ab(a, b):\n",
        "    print(f\"{a}/{b} =\", end = \" \") \n",
        "    final_res = a/b\n",
        "\n",
        "    my_arr = [] \n",
        "\n",
        "    while a != 0: \n",
        "        x = math.ceil(b / a)\n",
        "        my_arr.append(x)\n",
        "        a *= x\n",
        "        a -= b \n",
        "        b *= x\n",
        "\n",
        "    for i in range(len(my_arr)):\n",
        "        if i != (len(my_arr) - 1):\n",
        "            print(f\"1/{my_arr[i]} +\", end = \" \") \n",
        "        \n",
        "    print(f\"1/{my_arr[i]} = {final_res}\") \n",
        "\n",
        "fract_ab(188, 15)\n",
        "fract_ab(24, 15)\n",
        "fract_ab(105, 85)\n",
        "fract_ab(14, 4)\n",
        "fract_ab(78, 67)\n"
      ],
      "execution_count": null,
      "outputs": [
        {
          "output_type": "stream",
          "text": [
            "188/15 = 1/1 + 1/1 + 1/1 + 1/1 + 1/1 + 1/1 + 1/1 + 1/1 + 1/1 + 1/1 + 1/1 + 1/1 + 1/2 + 1/30 = 12.533333333333333\n",
            "24/15 = 1/1 + 1/2 + 1/10 = 1.6\n",
            "105/85 = 1/1 + 1/5 + 1/29 + 1/1233 + 1/3039345 = 1.2352941176470589\n",
            "14/4 = 1/1 + 1/1 + 1/1 + 1/2 = 3.5\n",
            "78/67 = 1/1 + 1/7 + 1/47 + 1/22043 = 1.164179104477612\n"
          ],
          "name": "stdout"
        }
      ]
    },
    {
      "cell_type": "markdown",
      "metadata": {
        "id": "8ulF8CjqPAkf"
      },
      "source": [
        "*3.9) Show that after 3, the next 100 triangular numbers are composite (not prime). Then prove this for all triangular numbers after 3.*\n",
        "\n",
        "Proving by contradiction, we asume that $p$ is a prime number and a triangular number. Also, one of $n$ and $n + 1$ is even, so, $p$ must be defined by: $\\quad p = \\frac{n(n+1)}{2}\\quad$, where $p$ can be divided by $n$ and $n +1$, but is a contradiction, because $p$ is a prime number. With this in mind, we can define $p$ as a composite."
      ]
    },
    {
      "cell_type": "markdown",
      "metadata": {
        "id": "x8zdsn5M3j7l"
      },
      "source": [
        "<hr>"
      ]
    },
    {
      "cell_type": "markdown",
      "metadata": {
        "id": "Fj4P78zZiqvD"
      },
      "source": [
        "**4. (15 Puntos) Del libro realice los siguientes problemas: 2 y 3 (pagina 79), 22 (pagina 80).**\n",
        "\n",
        "*4.2) Verify that $\\frac{6}{n^{3} − n}$ for $n ≤ 1000$. Then prove it is true for all $n$.*"
      ]
    },
    {
      "cell_type": "code",
      "metadata": {
        "colab": {
          "base_uri": "https://localhost:8080/"
        },
        "id": "mAfABzaBi9Zk",
        "outputId": "7111c4b8-4a4a-4765-8da1-6a1454ec32df"
      },
      "source": [
        "def verify_n_thousand_a():\n",
        "    for i in range(1, 1001):\n",
        "        confirmer = (i**3) - i\n",
        "\n",
        "        if confirmer % 6 != 0:\n",
        "            return False\n",
        "\n",
        "    return True\n",
        "\n",
        "print(verify_n_thousand_a(), \"for n ≤ 1000\")"
      ],
      "execution_count": null,
      "outputs": [
        {
          "output_type": "stream",
          "text": [
            "True for n ≤ 1000\n"
          ],
          "name": "stdout"
        }
      ]
    },
    {
      "cell_type": "markdown",
      "metadata": {
        "id": "RQo7esibi5am"
      },
      "source": [
        "*4.3) Repeat the previous exercise for the statement $\\frac{30}{n^{5} − n}$*"
      ]
    },
    {
      "cell_type": "code",
      "metadata": {
        "colab": {
          "base_uri": "https://localhost:8080/"
        },
        "id": "tdo6B2R2jtvg",
        "outputId": "267aae71-4751-4b19-dbeb-200d31c21b29"
      },
      "source": [
        "def verify_n_thousand_b():\n",
        "    for i in range(1, 1001):\n",
        "        confirmer = (i**5) - i\n",
        "\n",
        "        if confirmer % 30 != 0:\n",
        "            return False\n",
        "            \n",
        "    return True\n",
        "\n",
        "print(verify_n_thousand_b(), \"for n ≤ 1000\")"
      ],
      "execution_count": null,
      "outputs": [
        {
          "output_type": "stream",
          "text": [
            "True for n ≤ 1000\n"
          ],
          "name": "stdout"
        }
      ]
    },
    {
      "cell_type": "markdown",
      "metadata": {
        "id": "DA8WO3FujstE"
      },
      "source": [
        "*4.22) Verify Bertrand’s postulate (that for $n > 1$, there is a prime number between $n$ and $2n$) for all $n$ such that $1 < n ≤ 1000$.*"
      ]
    },
    {
      "cell_type": "code",
      "metadata": {
        "colab": {
          "base_uri": "https://localhost:8080/"
        },
        "id": "OT6g3ky7ki-j",
        "outputId": "80f52a0b-b29b-4b76-d7cd-3752ce37ffd5"
      },
      "source": [
        "def bertrand_postulate():\n",
        "    for i in range(2, 1001):\n",
        "        if not prime(i):\n",
        "            return False\n",
        "\n",
        "    return True\n",
        "\n",
        "\n",
        "def prime(m):\n",
        "    for j in range(m + 1, 2*m + 1):\n",
        "        if is_prime(j):\n",
        "            return True\n",
        "\n",
        "    return False\n",
        "\n",
        "\n",
        "def is_prime(o):\n",
        "    for k in range(2, o**(1//2) + 1):\n",
        "        if o % k == 0:\n",
        "            return False\n",
        "\n",
        "    return True\n",
        "\n",
        "\n",
        "print(str(bertrand_postulate()) + \", there is a prime number between  n  and  2n, for all  n  such that  1 < n ≤ 1000\")"
      ],
      "execution_count": null,
      "outputs": [
        {
          "output_type": "stream",
          "text": [
            "True, there is a prime number between  n  and  2n, for all  n  such that  1 < n ≤ 1000\n"
          ],
          "name": "stdout"
        }
      ]
    },
    {
      "cell_type": "markdown",
      "metadata": {
        "id": "IokhmrhQT0sw"
      },
      "source": [
        "<hr>"
      ]
    },
    {
      "cell_type": "markdown",
      "metadata": {
        "id": "qohrj5hhUGV3"
      },
      "source": [
        "**5. (10 Puntos) Del libro realice los siguientes problemas: 1 y 2 (pagina 104).**\n",
        "\n",
        "*5.1) Show that $n^{3} = 0$ or $± 1 (mod 9)$. The first few cubes $1, 8, 27, 64, 125$, and $216$ suggest the pattern $0, 1, −1, 0, 1, −1$, .... Does this pattern persist for the first $100$ cubes?*\n",
        "\n",
        "We have $n = k (mod 9)$ where $n \\in \\mathbb z_{9}$ and $k \\in \\mathbb z_{9} = {0, 1, 2, 3, 5, 6, 7, 8}$, therefore, is possible deduce $n^{3} = k^{3} (mod 9)$. So, proving by cases like in next output of Python program, where the patron appear, and show that $n^{3} = 0$ or $± 1 (mod 9)$ persist for the first $100$ cubes:\n",
        "\n"
      ]
    },
    {
      "cell_type": "code",
      "metadata": {
        "colab": {
          "base_uri": "https://localhost:8080/"
        },
        "id": "IP_NsK8SzD1p",
        "outputId": "683fa67c-7423-440c-ffac-068988519ea0"
      },
      "source": [
        "def resid(a, n):\n",
        "    q = 0\n",
        "    if a >= 0:\n",
        "        while q*n <= a:\n",
        "            q += 1\n",
        "        q -= 1\n",
        "    else:\n",
        "        while q*n >= a:\n",
        "            q -= 1\n",
        "\n",
        "    return a - q*n\n",
        "\n",
        "\n",
        "def negative_res(a, n):\n",
        "    q = 0\n",
        "    while True:\n",
        "        if resid(q, n) == a:\n",
        "            return q\n",
        "        else:\n",
        "            q -= 1\n",
        "\n",
        "    return q\n",
        "\n",
        "\n",
        "def cube(n):\n",
        "    if resid(n, 9) == 0:\n",
        "        return 0\n",
        "\n",
        "    elif resid(n, 9) == 1:\n",
        "        return 1\n",
        "\n",
        "    elif resid(n, 9) == 8:\n",
        "        return negative_res(8, 9)\n",
        "\n",
        "    else:\n",
        "        return resid(n, 9)\n",
        "  \n",
        "\n",
        "def cubes_a(n):\n",
        "    for i in range(1, n + 1):\n",
        "        cub = i**3\n",
        "        print(f\"k= {i},\\t n^3= {cub} \\t≡\\t {cube(cub)} \\t mod 9\")\n",
        "\n",
        "cubes_a(100)"
      ],
      "execution_count": 15,
      "outputs": [
        {
          "output_type": "stream",
          "text": [
            "k= 1,\t n^3= 1 \t≡\t 1 \t mod 9\n",
            "k= 2,\t n^3= 8 \t≡\t -1 \t mod 9\n",
            "k= 3,\t n^3= 27 \t≡\t 0 \t mod 9\n",
            "k= 4,\t n^3= 64 \t≡\t 1 \t mod 9\n",
            "k= 5,\t n^3= 125 \t≡\t -1 \t mod 9\n",
            "k= 6,\t n^3= 216 \t≡\t 0 \t mod 9\n",
            "k= 7,\t n^3= 343 \t≡\t 1 \t mod 9\n",
            "k= 8,\t n^3= 512 \t≡\t -1 \t mod 9\n",
            "k= 9,\t n^3= 729 \t≡\t 0 \t mod 9\n",
            "k= 10,\t n^3= 1000 \t≡\t 1 \t mod 9\n",
            "k= 11,\t n^3= 1331 \t≡\t -1 \t mod 9\n",
            "k= 12,\t n^3= 1728 \t≡\t 0 \t mod 9\n",
            "k= 13,\t n^3= 2197 \t≡\t 1 \t mod 9\n",
            "k= 14,\t n^3= 2744 \t≡\t -1 \t mod 9\n",
            "k= 15,\t n^3= 3375 \t≡\t 0 \t mod 9\n",
            "k= 16,\t n^3= 4096 \t≡\t 1 \t mod 9\n",
            "k= 17,\t n^3= 4913 \t≡\t -1 \t mod 9\n",
            "k= 18,\t n^3= 5832 \t≡\t 0 \t mod 9\n",
            "k= 19,\t n^3= 6859 \t≡\t 1 \t mod 9\n",
            "k= 20,\t n^3= 8000 \t≡\t -1 \t mod 9\n",
            "k= 21,\t n^3= 9261 \t≡\t 0 \t mod 9\n",
            "k= 22,\t n^3= 10648 \t≡\t 1 \t mod 9\n",
            "k= 23,\t n^3= 12167 \t≡\t -1 \t mod 9\n",
            "k= 24,\t n^3= 13824 \t≡\t 0 \t mod 9\n",
            "k= 25,\t n^3= 15625 \t≡\t 1 \t mod 9\n",
            "k= 26,\t n^3= 17576 \t≡\t -1 \t mod 9\n",
            "k= 27,\t n^3= 19683 \t≡\t 0 \t mod 9\n",
            "k= 28,\t n^3= 21952 \t≡\t 1 \t mod 9\n",
            "k= 29,\t n^3= 24389 \t≡\t -1 \t mod 9\n",
            "k= 30,\t n^3= 27000 \t≡\t 0 \t mod 9\n",
            "k= 31,\t n^3= 29791 \t≡\t 1 \t mod 9\n",
            "k= 32,\t n^3= 32768 \t≡\t -1 \t mod 9\n",
            "k= 33,\t n^3= 35937 \t≡\t 0 \t mod 9\n",
            "k= 34,\t n^3= 39304 \t≡\t 1 \t mod 9\n",
            "k= 35,\t n^3= 42875 \t≡\t -1 \t mod 9\n",
            "k= 36,\t n^3= 46656 \t≡\t 0 \t mod 9\n",
            "k= 37,\t n^3= 50653 \t≡\t 1 \t mod 9\n",
            "k= 38,\t n^3= 54872 \t≡\t -1 \t mod 9\n",
            "k= 39,\t n^3= 59319 \t≡\t 0 \t mod 9\n",
            "k= 40,\t n^3= 64000 \t≡\t 1 \t mod 9\n",
            "k= 41,\t n^3= 68921 \t≡\t -1 \t mod 9\n",
            "k= 42,\t n^3= 74088 \t≡\t 0 \t mod 9\n",
            "k= 43,\t n^3= 79507 \t≡\t 1 \t mod 9\n",
            "k= 44,\t n^3= 85184 \t≡\t -1 \t mod 9\n",
            "k= 45,\t n^3= 91125 \t≡\t 0 \t mod 9\n",
            "k= 46,\t n^3= 97336 \t≡\t 1 \t mod 9\n",
            "k= 47,\t n^3= 103823 \t≡\t -1 \t mod 9\n",
            "k= 48,\t n^3= 110592 \t≡\t 0 \t mod 9\n",
            "k= 49,\t n^3= 117649 \t≡\t 1 \t mod 9\n",
            "k= 50,\t n^3= 125000 \t≡\t -1 \t mod 9\n",
            "k= 51,\t n^3= 132651 \t≡\t 0 \t mod 9\n",
            "k= 52,\t n^3= 140608 \t≡\t 1 \t mod 9\n",
            "k= 53,\t n^3= 148877 \t≡\t -1 \t mod 9\n",
            "k= 54,\t n^3= 157464 \t≡\t 0 \t mod 9\n",
            "k= 55,\t n^3= 166375 \t≡\t 1 \t mod 9\n",
            "k= 56,\t n^3= 175616 \t≡\t -1 \t mod 9\n",
            "k= 57,\t n^3= 185193 \t≡\t 0 \t mod 9\n",
            "k= 58,\t n^3= 195112 \t≡\t 1 \t mod 9\n",
            "k= 59,\t n^3= 205379 \t≡\t -1 \t mod 9\n",
            "k= 60,\t n^3= 216000 \t≡\t 0 \t mod 9\n",
            "k= 61,\t n^3= 226981 \t≡\t 1 \t mod 9\n",
            "k= 62,\t n^3= 238328 \t≡\t -1 \t mod 9\n",
            "k= 63,\t n^3= 250047 \t≡\t 0 \t mod 9\n",
            "k= 64,\t n^3= 262144 \t≡\t 1 \t mod 9\n",
            "k= 65,\t n^3= 274625 \t≡\t -1 \t mod 9\n",
            "k= 66,\t n^3= 287496 \t≡\t 0 \t mod 9\n",
            "k= 67,\t n^3= 300763 \t≡\t 1 \t mod 9\n",
            "k= 68,\t n^3= 314432 \t≡\t -1 \t mod 9\n",
            "k= 69,\t n^3= 328509 \t≡\t 0 \t mod 9\n",
            "k= 70,\t n^3= 343000 \t≡\t 1 \t mod 9\n",
            "k= 71,\t n^3= 357911 \t≡\t -1 \t mod 9\n",
            "k= 72,\t n^3= 373248 \t≡\t 0 \t mod 9\n",
            "k= 73,\t n^3= 389017 \t≡\t 1 \t mod 9\n",
            "k= 74,\t n^3= 405224 \t≡\t -1 \t mod 9\n",
            "k= 75,\t n^3= 421875 \t≡\t 0 \t mod 9\n",
            "k= 76,\t n^3= 438976 \t≡\t 1 \t mod 9\n",
            "k= 77,\t n^3= 456533 \t≡\t -1 \t mod 9\n",
            "k= 78,\t n^3= 474552 \t≡\t 0 \t mod 9\n",
            "k= 79,\t n^3= 493039 \t≡\t 1 \t mod 9\n",
            "k= 80,\t n^3= 512000 \t≡\t -1 \t mod 9\n",
            "k= 81,\t n^3= 531441 \t≡\t 0 \t mod 9\n",
            "k= 82,\t n^3= 551368 \t≡\t 1 \t mod 9\n",
            "k= 83,\t n^3= 571787 \t≡\t -1 \t mod 9\n",
            "k= 84,\t n^3= 592704 \t≡\t 0 \t mod 9\n",
            "k= 85,\t n^3= 614125 \t≡\t 1 \t mod 9\n",
            "k= 86,\t n^3= 636056 \t≡\t -1 \t mod 9\n",
            "k= 87,\t n^3= 658503 \t≡\t 0 \t mod 9\n",
            "k= 88,\t n^3= 681472 \t≡\t 1 \t mod 9\n",
            "k= 89,\t n^3= 704969 \t≡\t -1 \t mod 9\n",
            "k= 90,\t n^3= 729000 \t≡\t 0 \t mod 9\n",
            "k= 91,\t n^3= 753571 \t≡\t 1 \t mod 9\n",
            "k= 92,\t n^3= 778688 \t≡\t -1 \t mod 9\n",
            "k= 93,\t n^3= 804357 \t≡\t 0 \t mod 9\n",
            "k= 94,\t n^3= 830584 \t≡\t 1 \t mod 9\n",
            "k= 95,\t n^3= 857375 \t≡\t -1 \t mod 9\n",
            "k= 96,\t n^3= 884736 \t≡\t 0 \t mod 9\n",
            "k= 97,\t n^3= 912673 \t≡\t 1 \t mod 9\n",
            "k= 98,\t n^3= 941192 \t≡\t -1 \t mod 9\n",
            "k= 99,\t n^3= 970299 \t≡\t 0 \t mod 9\n",
            "k= 100,\t n^3= 1000000 \t≡\t 1 \t mod 9\n"
          ],
          "name": "stdout"
        }
      ]
    },
    {
      "cell_type": "markdown",
      "metadata": {
        "id": "FB2TIM0ayXZv"
      },
      "source": [
        "*5.2) Show that $n^{3} = 0$ or $± 1 (mod 7)$ for $n ≤ 100$?*\n",
        "\n",
        "We have $n = k (mod 7)$ where $n \\in \\mathbb z_{7}$ and $k \\in \\mathbb z_{7} = {0, 1, 2, 3, 5, 6}$, therefore, is possible deduce $n^{3} = k^{3} (mod 7)$. So, proving by cases like in next output of Python program, where the patron appear, and show that $n^{3} = 0$ or $± 1 (mod 7)$ doesn't persist for the first $100$ cubes:"
      ]
    },
    {
      "cell_type": "code",
      "metadata": {
        "colab": {
          "base_uri": "https://localhost:8080/"
        },
        "id": "bOp_XB5F25Ho",
        "outputId": "e2989bb6-e068-4bc3-c731-7edb711b76d6"
      },
      "source": [
        "def cube_b(n):\n",
        "    if resid(n, 7) == 0:\n",
        "        return 0\n",
        "\n",
        "    elif resid(n, 7) == 1:\n",
        "        return 1\n",
        "\n",
        "    elif resid(n,7) == 6:\n",
        "        return negative_res(6, 7)\n",
        "\n",
        "    else:\n",
        "        return resid(n,7)\n",
        "  \n",
        "def cubes_b(n):\n",
        "    for i in range(1, n + 1):\n",
        "        cub = i ** 3\n",
        "        print(f\"{i}^3 =\", cub, \"-->\", cube_b(cub))\n",
        "\n",
        "cubes_b(100)"
      ],
      "execution_count": null,
      "outputs": [
        {
          "output_type": "stream",
          "text": [
            "1^3 = 1 --> 1\n",
            "2^3 = 8 --> 1\n",
            "3^3 = 27 --> -1\n",
            "4^3 = 64 --> 1\n",
            "5^3 = 125 --> -1\n",
            "6^3 = 216 --> -1\n",
            "7^3 = 343 --> 0\n",
            "8^3 = 512 --> 1\n",
            "9^3 = 729 --> 1\n",
            "10^3 = 1000 --> -1\n",
            "11^3 = 1331 --> 1\n",
            "12^3 = 1728 --> -1\n",
            "13^3 = 2197 --> -1\n",
            "14^3 = 2744 --> 0\n",
            "15^3 = 3375 --> 1\n",
            "16^3 = 4096 --> 1\n",
            "17^3 = 4913 --> -1\n",
            "18^3 = 5832 --> 1\n",
            "19^3 = 6859 --> -1\n",
            "20^3 = 8000 --> -1\n",
            "21^3 = 9261 --> 0\n",
            "22^3 = 10648 --> 1\n",
            "23^3 = 12167 --> 1\n",
            "24^3 = 13824 --> -1\n",
            "25^3 = 15625 --> 1\n",
            "26^3 = 17576 --> -1\n",
            "27^3 = 19683 --> -1\n",
            "28^3 = 21952 --> 0\n",
            "29^3 = 24389 --> 1\n",
            "30^3 = 27000 --> 1\n",
            "31^3 = 29791 --> -1\n",
            "32^3 = 32768 --> 1\n",
            "33^3 = 35937 --> -1\n",
            "34^3 = 39304 --> -1\n",
            "35^3 = 42875 --> 0\n",
            "36^3 = 46656 --> 1\n",
            "37^3 = 50653 --> 1\n",
            "38^3 = 54872 --> -1\n",
            "39^3 = 59319 --> 1\n",
            "40^3 = 64000 --> -1\n",
            "41^3 = 68921 --> -1\n",
            "42^3 = 74088 --> 0\n",
            "43^3 = 79507 --> 1\n",
            "44^3 = 85184 --> 1\n",
            "45^3 = 91125 --> -1\n",
            "46^3 = 97336 --> 1\n",
            "47^3 = 103823 --> -1\n",
            "48^3 = 110592 --> -1\n",
            "49^3 = 117649 --> 0\n",
            "50^3 = 125000 --> 1\n",
            "51^3 = 132651 --> 1\n",
            "52^3 = 140608 --> -1\n",
            "53^3 = 148877 --> 1\n",
            "54^3 = 157464 --> -1\n",
            "55^3 = 166375 --> -1\n",
            "56^3 = 175616 --> 0\n",
            "57^3 = 185193 --> 1\n",
            "58^3 = 195112 --> 1\n",
            "59^3 = 205379 --> -1\n",
            "60^3 = 216000 --> 1\n",
            "61^3 = 226981 --> -1\n",
            "62^3 = 238328 --> -1\n",
            "63^3 = 250047 --> 0\n",
            "64^3 = 262144 --> 1\n",
            "65^3 = 274625 --> 1\n",
            "66^3 = 287496 --> -1\n",
            "67^3 = 300763 --> 1\n",
            "68^3 = 314432 --> -1\n",
            "69^3 = 328509 --> -1\n",
            "70^3 = 343000 --> 0\n",
            "71^3 = 357911 --> 1\n",
            "72^3 = 373248 --> 1\n",
            "73^3 = 389017 --> -1\n",
            "74^3 = 405224 --> 1\n",
            "75^3 = 421875 --> -1\n",
            "76^3 = 438976 --> -1\n",
            "77^3 = 456533 --> 0\n",
            "78^3 = 474552 --> 1\n",
            "79^3 = 493039 --> 1\n",
            "80^3 = 512000 --> -1\n",
            "81^3 = 531441 --> 1\n",
            "82^3 = 551368 --> -1\n",
            "83^3 = 571787 --> -1\n",
            "84^3 = 592704 --> 0\n",
            "85^3 = 614125 --> 1\n",
            "86^3 = 636056 --> 1\n",
            "87^3 = 658503 --> -1\n",
            "88^3 = 681472 --> 1\n",
            "89^3 = 704969 --> -1\n",
            "90^3 = 729000 --> -1\n",
            "91^3 = 753571 --> 0\n",
            "92^3 = 778688 --> 1\n",
            "93^3 = 804357 --> 1\n",
            "94^3 = 830584 --> -1\n",
            "95^3 = 857375 --> 1\n",
            "96^3 = 884736 --> -1\n",
            "97^3 = 912673 --> -1\n",
            "98^3 = 941192 --> 0\n",
            "99^3 = 970299 --> 1\n",
            "100^3 = 1000000 --> 1\n"
          ],
          "name": "stdout"
        }
      ]
    },
    {
      "cell_type": "markdown",
      "metadata": {
        "id": "e9MaGwWFLl6d"
      },
      "source": [
        "<hr>"
      ]
    },
    {
      "cell_type": "markdown",
      "metadata": {
        "id": "2MhwZrGCLnO0"
      },
      "source": [
        "**6. (10 Puntos) Del libro realice los siguientes problemas: 18 (pagina 105).**\n",
        "\n",
        "*6.18) What is the remainder when $2^{100}$ is divided by $7$? Hint: $2^{3} = 1 (mod 7)$.*\n",
        "\n",
        "Using the properties of modular arithmetic like: $x^{r+3q} ≡ x^r (x^{3})^{q} ≡ x^{r}(1)^{q} ≡ x^{r}$, is possible deduce:\n",
        "\n",
        "<center>\n",
        "    <br>\n",
        "    $2^{100} ≡ 2^{3*33} * 2 (mod 7)$<br>\n",
        "    $2^{100} ≡ (2^{3})^{33} * 2 (mod 7)$<br>\n",
        "    $2^{100} ≡ (2^{3})^{33} * 2 ≡ 2 (mod 7)$<br>\n",
        "    $2^{100} ≡ 2 (mod 7)$\n",
        "</center>\n",
        "\n",
        "The remainder when $2^{100}$ is divided by $7$ is $2$."
      ]
    },
    {
      "cell_type": "markdown",
      "metadata": {
        "id": "huaVz_YKWq6h"
      },
      "source": [
        "<hr>"
      ]
    },
    {
      "cell_type": "markdown",
      "metadata": {
        "id": "OdAtFByEWr2A"
      },
      "source": [
        "**7. (10 Puntos) Del libro realice los siguientes problemas: 19 y 20 (pagina 105).**\n",
        "\n",
        "\n",
        "*7.19) Use number theory to find the remainder when* $\\sum^{1000}_{k = 1}k!$ *is divided by $24$. How much running time is involved if this is done by computing the sum and then dividing by $24$?*\n",
        "\n",
        "Following the expression $\\sum^{1000}_{k = 1}k!$, is possible expand the sumatory as:<br>\n",
        "<center>\n",
        "    $1! = 1 = 1$<br>\n",
        "    $2! = 1*2 = 2$<br>\n",
        "    $3! = 1*2*3 = 6$<br>\n",
        "    $4! = 1*2*3*4 = 24$<br>\n",
        "    $5! = 1*2*3*4*5 = 120 = 24*5$<br>\n",
        "    $6! = 1*2*3*4*5*6 = 720 = 24*5*6 = 4!*\\frac{6!}{4!}$<br>\n",
        "    .<br>.<br>.<br>\n",
        "    $999! = 1*2*3*...*997*998*999 =  4!*\\frac{999!}{4!}$<br>\n",
        "    $1000! = 1*2*3*...*998*999*1000 =  4!*\\frac{1000!}{4!}$<p>\n",
        "</center>\n",
        "\n",
        "So, by definition, we obtain $k! = 4! * \\frac{k!}{4!}$. Therefore, after $4!$ every element have congruence with $0(mod 4)$, so, is possible ingore the summatory in $\\sum^{1000}_{k = 1}k!$ after $4!$, where:\n",
        "<center>\n",
        "    $\\sum^{1000}_{k = 1}k! ≡ 1! + 2! + 3! ≡ 9 (mod 24)$\n",
        "</center>\n",
        "\n",
        "So, when $\\sum^{1000}_{k = 1}k!$ is divided by $24$, the reminder is $9$. Like next:"
      ]
    },
    {
      "cell_type": "code",
      "metadata": {
        "colab": {
          "base_uri": "https://localhost:8080/"
        },
        "id": "RkrV7hZOYFI0",
        "outputId": "355d212a-ae91-4418-bcd1-e9b30050babf"
      },
      "source": [
        "a = 0\n",
        "def fact(n):\n",
        "    factorial_total = 1\n",
        "    while n > 1:\n",
        "        factorial_total *= n\n",
        "        n -= 1\n",
        "    return factorial_total\n",
        "\n",
        "for i in range(1,1001):\n",
        "    a += fact(i)\n",
        "\n",
        "print(\"The reminder is:\", a % 24)"
      ],
      "execution_count": null,
      "outputs": [
        {
          "output_type": "stream",
          "text": [
            "The reminder is: 9\n"
          ],
          "name": "stdout"
        }
      ]
    },
    {
      "cell_type": "markdown",
      "metadata": {
        "id": "XwLd7ko2aW7G"
      },
      "source": [
        "*7.20) Show that* $1^{p−1} + 2^{p−1} + 3^{p−1} + ... + (p−1)^{p−1} = −1(mod p)$, *where $p$ is a prime less than $50$.*"
      ]
    },
    {
      "cell_type": "code",
      "metadata": {
        "colab": {
          "base_uri": "https://localhost:8080/"
        },
        "id": "ha_j-lS8aclO",
        "outputId": "9bd18a0b-5750-4ca6-cb87-e381d75b859e"
      },
      "source": [
        "def sum_elem_zn(p):\n",
        "    if not is_prime(p):\n",
        "        return \"The number isn't prime\"\n",
        "    else:\n",
        "        sum = 0\n",
        "        my_pow = p-1\n",
        "        for i in range(1, p):\n",
        "            sum += fermat(i, my_pow, p)\n",
        "\n",
        "        if negative_res(sum, p) == -1:\n",
        "            return negative_res(sum, p)\n",
        "        \n",
        "        else:\n",
        "            return resid(sum, p)\n",
        "\n",
        "\n",
        "def fermat(a, n, p):\n",
        "    if resid(n, p - 1) == 0:\n",
        "        return 1\n",
        "        \n",
        "    else:\n",
        "        m = resid(n, p - 1)\n",
        "        return power_modular(a, m, p)\n",
        "\n",
        "ingress = int(input(\"Ingress 1 prime number less than 50: \"))\n",
        "result = sum_elem_zn(ingress)\n",
        "print(f\"p = {ingress} \\t Result = {result} \\t So, 1^(p−1) + 2^(p−1) + 3^(p−1) + ... + (p−1)^(p−1) = −1(mod p) is True\") if result == -1 else print(f\"Error, try again \\t p = {ingress} \")"
      ],
      "execution_count": null,
      "outputs": [
        {
          "output_type": "stream",
          "text": [
            "Ingress 1 prime number less than 50: 31\n",
            "p = 31 \t Result = -1 \t So, 1^(p−1) + 2^(p−1) + 3^(p−1) + ... + (p−1)^(p−1) = −1(mod p) is True\n"
          ],
          "name": "stdout"
        }
      ]
    }
  ]
}